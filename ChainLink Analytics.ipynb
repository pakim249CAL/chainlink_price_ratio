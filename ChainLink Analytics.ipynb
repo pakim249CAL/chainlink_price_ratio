{
 "cells": [
  {
   "cell_type": "code",
   "execution_count": 2,
   "metadata": {},
   "outputs": [],
   "source": [
    "import pandas as pd\n",
    "from web3 import Web3\n",
    "import numpy as np\n",
    "import matplotlib.pyplot as plt\n",
    "from datetime import datetime\n"
   ]
  },
  {
   "cell_type": "code",
   "execution_count": 4,
   "metadata": {},
   "outputs": [],
   "source": [
    "#Setting up\n",
    "\n",
    "min_ts = 1617278400\n",
    "max_entry = 10000\n",
    "\n",
    "w3 = Web3(Web3.HTTPProvider('https://mainnet.infura.io/v3/70417449752c4b6eb9544df2009ad7c9'))\n",
    "\n",
    "addresses = {\n",
    "    \"USDC/ETH\": \"0x986b5E1e1755e3C2440e960477f25201B0a8bbD4\",\n",
    "    \"USDT/ETH\": \"0xEe9F2375b4bdF6387aa8265dD4FB8F16512A1d46\",\n",
    "    \"DAI/ETH\": \"0x773616E4d11A78F511299002da57A0a94577F1f4\",\n",
    "    \"ETH/USD\": \"0x5f4eC3Df9cbd43714FE2740f5E3616155c5b8419\",\n",
    "    \"USDC/USD\": \"0x8fFfFfd4AfB6115b954Bd326cbe7B4BA576818f6\",\n",
    "    \"USDT/USD\": \"0x3E7d1eAB13ad0104d2750B8863b489D65364e32D\",\n",
    "    \"DAI/USD\": \"0xAed0c38402a5d19df6E4c03F4E2DceD6e29c1ee9\"\n",
    "}\n",
    "\n",
    "comparisons = [['USDC/ETH', 'USDT/ETH'], ['USDC/ETH', 'DAI/ETH'], \n",
    "               ['DAI/ETH', 'USDC/ETH'], ['DAI/ETH', 'USDT/ETH'],\n",
    "              ['USDC/USD', 'USDT/USD'], ['USDC/USD', 'DAI/USD'],\n",
    "               ['DAI/USD', 'USDC/USD'], ['DAI/USD', 'USDT/USD']]\n",
    "\n",
    "\n",
    "abi = '[{\"inputs\":[{\"internalType\":\"address\",\"name\":\"_aggregator\",\"type\":\"address\"},{\"internalType\":\"address\",\"name\":\"_accessController\",\"type\":\"address\"}],\"stateMutability\":\"nonpayable\",\"type\":\"constructor\"},{\"anonymous\":false,\"inputs\":[{\"indexed\":true,\"internalType\":\"int256\",\"name\":\"current\",\"type\":\"int256\"},{\"indexed\":true,\"internalType\":\"uint256\",\"name\":\"roundId\",\"type\":\"uint256\"},{\"indexed\":false,\"internalType\":\"uint256\",\"name\":\"updatedAt\",\"type\":\"uint256\"}],\"name\":\"AnswerUpdated\",\"type\":\"event\"},{\"anonymous\":false,\"inputs\":[{\"indexed\":true,\"internalType\":\"uint256\",\"name\":\"roundId\",\"type\":\"uint256\"},{\"indexed\":true,\"internalType\":\"address\",\"name\":\"startedBy\",\"type\":\"address\"},{\"indexed\":false,\"internalType\":\"uint256\",\"name\":\"startedAt\",\"type\":\"uint256\"}],\"name\":\"NewRound\",\"type\":\"event\"},{\"anonymous\":false,\"inputs\":[{\"indexed\":true,\"internalType\":\"address\",\"name\":\"from\",\"type\":\"address\"},{\"indexed\":true,\"internalType\":\"address\",\"name\":\"to\",\"type\":\"address\"}],\"name\":\"OwnershipTransferRequested\",\"type\":\"event\"},{\"anonymous\":false,\"inputs\":[{\"indexed\":true,\"internalType\":\"address\",\"name\":\"from\",\"type\":\"address\"},{\"indexed\":true,\"internalType\":\"address\",\"name\":\"to\",\"type\":\"address\"}],\"name\":\"OwnershipTransferred\",\"type\":\"event\"},{\"inputs\":[],\"name\":\"acceptOwnership\",\"outputs\":[],\"stateMutability\":\"nonpayable\",\"type\":\"function\"},{\"inputs\":[],\"name\":\"accessController\",\"outputs\":[{\"internalType\":\"contract AccessControllerInterface\",\"name\":\"\",\"type\":\"address\"}],\"stateMutability\":\"view\",\"type\":\"function\"},{\"inputs\":[],\"name\":\"aggregator\",\"outputs\":[{\"internalType\":\"address\",\"name\":\"\",\"type\":\"address\"}],\"stateMutability\":\"view\",\"type\":\"function\"},{\"inputs\":[{\"internalType\":\"address\",\"name\":\"_aggregator\",\"type\":\"address\"}],\"name\":\"confirmAggregator\",\"outputs\":[],\"stateMutability\":\"nonpayable\",\"type\":\"function\"},{\"inputs\":[],\"name\":\"decimals\",\"outputs\":[{\"internalType\":\"uint8\",\"name\":\"\",\"type\":\"uint8\"}],\"stateMutability\":\"view\",\"type\":\"function\"},{\"inputs\":[],\"name\":\"description\",\"outputs\":[{\"internalType\":\"string\",\"name\":\"\",\"type\":\"string\"}],\"stateMutability\":\"view\",\"type\":\"function\"},{\"inputs\":[{\"internalType\":\"uint256\",\"name\":\"_roundId\",\"type\":\"uint256\"}],\"name\":\"getAnswer\",\"outputs\":[{\"internalType\":\"int256\",\"name\":\"\",\"type\":\"int256\"}],\"stateMutability\":\"view\",\"type\":\"function\"},{\"inputs\":[{\"internalType\":\"uint80\",\"name\":\"_roundId\",\"type\":\"uint80\"}],\"name\":\"getRoundData\",\"outputs\":[{\"internalType\":\"uint80\",\"name\":\"roundId\",\"type\":\"uint80\"},{\"internalType\":\"int256\",\"name\":\"answer\",\"type\":\"int256\"},{\"internalType\":\"uint256\",\"name\":\"startedAt\",\"type\":\"uint256\"},{\"internalType\":\"uint256\",\"name\":\"updatedAt\",\"type\":\"uint256\"},{\"internalType\":\"uint80\",\"name\":\"answeredInRound\",\"type\":\"uint80\"}],\"stateMutability\":\"view\",\"type\":\"function\"},{\"inputs\":[{\"internalType\":\"uint256\",\"name\":\"_roundId\",\"type\":\"uint256\"}],\"name\":\"getTimestamp\",\"outputs\":[{\"internalType\":\"uint256\",\"name\":\"\",\"type\":\"uint256\"}],\"stateMutability\":\"view\",\"type\":\"function\"},{\"inputs\":[],\"name\":\"latestAnswer\",\"outputs\":[{\"internalType\":\"int256\",\"name\":\"\",\"type\":\"int256\"}],\"stateMutability\":\"view\",\"type\":\"function\"},{\"inputs\":[],\"name\":\"latestRound\",\"outputs\":[{\"internalType\":\"uint256\",\"name\":\"\",\"type\":\"uint256\"}],\"stateMutability\":\"view\",\"type\":\"function\"},{\"inputs\":[],\"name\":\"latestRoundData\",\"outputs\":[{\"internalType\":\"uint80\",\"name\":\"roundId\",\"type\":\"uint80\"},{\"internalType\":\"int256\",\"name\":\"answer\",\"type\":\"int256\"},{\"internalType\":\"uint256\",\"name\":\"startedAt\",\"type\":\"uint256\"},{\"internalType\":\"uint256\",\"name\":\"updatedAt\",\"type\":\"uint256\"},{\"internalType\":\"uint80\",\"name\":\"answeredInRound\",\"type\":\"uint80\"}],\"stateMutability\":\"view\",\"type\":\"function\"},{\"inputs\":[],\"name\":\"latestTimestamp\",\"outputs\":[{\"internalType\":\"uint256\",\"name\":\"\",\"type\":\"uint256\"}],\"stateMutability\":\"view\",\"type\":\"function\"},{\"inputs\":[],\"name\":\"owner\",\"outputs\":[{\"internalType\":\"address payable\",\"name\":\"\",\"type\":\"address\"}],\"stateMutability\":\"view\",\"type\":\"function\"},{\"inputs\":[{\"internalType\":\"uint16\",\"name\":\"\",\"type\":\"uint16\"}],\"name\":\"phaseAggregators\",\"outputs\":[{\"internalType\":\"contract AggregatorV2V3Interface\",\"name\":\"\",\"type\":\"address\"}],\"stateMutability\":\"view\",\"type\":\"function\"},{\"inputs\":[],\"name\":\"phaseId\",\"outputs\":[{\"internalType\":\"uint16\",\"name\":\"\",\"type\":\"uint16\"}],\"stateMutability\":\"view\",\"type\":\"function\"},{\"inputs\":[{\"internalType\":\"address\",\"name\":\"_aggregator\",\"type\":\"address\"}],\"name\":\"proposeAggregator\",\"outputs\":[],\"stateMutability\":\"nonpayable\",\"type\":\"function\"},{\"inputs\":[],\"name\":\"proposedAggregator\",\"outputs\":[{\"internalType\":\"contract AggregatorV2V3Interface\",\"name\":\"\",\"type\":\"address\"}],\"stateMutability\":\"view\",\"type\":\"function\"},{\"inputs\":[{\"internalType\":\"uint80\",\"name\":\"_roundId\",\"type\":\"uint80\"}],\"name\":\"proposedGetRoundData\",\"outputs\":[{\"internalType\":\"uint80\",\"name\":\"roundId\",\"type\":\"uint80\"},{\"internalType\":\"int256\",\"name\":\"answer\",\"type\":\"int256\"},{\"internalType\":\"uint256\",\"name\":\"startedAt\",\"type\":\"uint256\"},{\"internalType\":\"uint256\",\"name\":\"updatedAt\",\"type\":\"uint256\"},{\"internalType\":\"uint80\",\"name\":\"answeredInRound\",\"type\":\"uint80\"}],\"stateMutability\":\"view\",\"type\":\"function\"},{\"inputs\":[],\"name\":\"proposedLatestRoundData\",\"outputs\":[{\"internalType\":\"uint80\",\"name\":\"roundId\",\"type\":\"uint80\"},{\"internalType\":\"int256\",\"name\":\"answer\",\"type\":\"int256\"},{\"internalType\":\"uint256\",\"name\":\"startedAt\",\"type\":\"uint256\"},{\"internalType\":\"uint256\",\"name\":\"updatedAt\",\"type\":\"uint256\"},{\"internalType\":\"uint80\",\"name\":\"answeredInRound\",\"type\":\"uint80\"}],\"stateMutability\":\"view\",\"type\":\"function\"},{\"inputs\":[{\"internalType\":\"address\",\"name\":\"_accessController\",\"type\":\"address\"}],\"name\":\"setController\",\"outputs\":[],\"stateMutability\":\"nonpayable\",\"type\":\"function\"},{\"inputs\":[{\"internalType\":\"address\",\"name\":\"_to\",\"type\":\"address\"}],\"name\":\"transferOwnership\",\"outputs\":[],\"stateMutability\":\"nonpayable\",\"type\":\"function\"},{\"inputs\":[],\"name\":\"version\",\"outputs\":[{\"internalType\":\"uint256\",\"name\":\"\",\"type\":\"uint256\"}],\"stateMutability\":\"view\",\"type\":\"function\"}]'\n",
    "columns = ['roundid', 'price', 'startedAt', 'updatedAt', 'answeredInRound', 'assetPair']\n",
    "data = pd.DataFrame()\n",
    "\n",
    "\n",
    "#Helper function to get a history of prices for one asset pair\n",
    "#The only way I could think of to do this is to get the latest round data and decrement the round number\n",
    "#This is pretty slow. Could be faster if I can figure out how to batch transactions but this works for now.\n",
    "def getPrices(addr, asset_pair, min_timestamp = -1, maxEntries = -1):\n",
    "    contract_instance = w3.eth.contract(address = addr, abi = abi)\n",
    "    lastRound = contract_instance.functions.latestRound().call()\n",
    "    decimals = contract_instance.functions.decimals().call()\n",
    "    df = pd.DataFrame()\n",
    "    \n",
    "    while lastRound > 1 and maxEntries != 0:\n",
    "        maxEntries -= 1\n",
    "        newrow = [0, 0, 0, 0, 0]\n",
    "        try:\n",
    "            newrow = contract_instance.functions.getRoundData(lastRound).call()\n",
    "        except:\n",
    "            print(\"Error\")\n",
    "            break\n",
    "        newrow.append(asset_pair)\n",
    "        newrow[1] = newrow[1]/(10**decimals)\n",
    "        df = df.append([newrow])\n",
    "        lastRound -= 1\n",
    "        if newrow[2] <= min_timestamp:\n",
    "            break\n",
    "    return df\n",
    "\n",
    "#Helper function to fill blank times with prices from a previous time\n",
    "#Requires 2 rows in the column\n",
    "def backfill(column):\n",
    "    assert len(column) > 1, \"Column length needs to be greater than 1\"\n",
    "    if np.isnan(column.iloc[0]):\n",
    "        column.iloc[0] = np.nan\n",
    "    for i in range(1,len(column)):\n",
    "        if np.isnan(column.iloc[i]):\n",
    "            column.iloc[i] = column.iloc[i-1]\n",
    "    return column"
   ]
  },
  {
   "cell_type": "code",
   "execution_count": 5,
   "metadata": {},
   "outputs": [],
   "source": [
    "#Fill a dataframe with prices for each asset pair\n",
    "for a in addresses:\n",
    "    df = getPrices(addresses[a], a, min_timestamp = min_ts, maxEntries = max_entry)\n",
    "    data = data.append(df)\n",
    "data.columns = columns\n",
    "\n",
    "#Cleaning up data to remove duplicates and remove zero prices\n",
    "data = data.drop_duplicates(\n",
    "  subset = ['startedAt', 'assetPair'],\n",
    "  keep = 'last').reset_index(drop = True)\n",
    "\n",
    "data = data[data['price'] > float(0)] "
   ]
  },
  {
   "cell_type": "code",
   "execution_count": 6,
   "metadata": {},
   "outputs": [],
   "source": [
    "#Create pivot table\n",
    "pivot_table = data.pivot(index = 'startedAt', values = 'price', columns = 'assetPair')\n",
    "for t in pivot_table:\n",
    "    pivot_table[t] = backfill(pivot_table[t])\n",
    "for pair in ['USDC/ETH', 'USDT/ETH', 'DAI/ETH']:\n",
    "    pivot_table[pair] = pivot_table[pair]\n",
    "    "
   ]
  },
  {
   "cell_type": "code",
   "execution_count": 7,
   "metadata": {},
   "outputs": [],
   "source": [
    "#Create ratio table (this is the slowest computation step)\n",
    "ratio_table = pd.DataFrame()\n",
    "for c in comparisons:\n",
    "    for i in range(len(pivot_table)):\n",
    "        val1 = pivot_table.iloc[i][c[0]]\n",
    "        val2 = pivot_table.iloc[i][c[1]]\n",
    "        timestamp = pivot_table.index[i]\n",
    "        ratio_table = ratio_table.append([[timestamp, c[0], c[1], val1/val2]])\n",
    "ratio_table.columns = ['timestamp', 'feed1', 'feed2', 'price_ratio']\n",
    "ratio_table = ratio_table.dropna()"
   ]
  },
  {
   "cell_type": "code",
   "execution_count": 12,
   "metadata": {},
   "outputs": [],
   "source": [
    "ratio_table['date'] = ratio_table.apply(lambda x: str(datetime.fromtimestamp(x['timestamp'])), axis = 1)"
   ]
  },
  {
   "cell_type": "code",
   "execution_count": 16,
   "metadata": {},
   "outputs": [],
   "source": [
    "sorted_ratios = ratio_table.sort_values(by = 'price_ratio')\n",
    "sorted_ratios.to_excel(\"test.xlsx\")"
   ]
  },
  {
   "cell_type": "code",
   "execution_count": 15,
   "metadata": {},
   "outputs": [
    {
     "data": {
      "text/plain": [
       "0    USDC/ETH\n",
       "0    USDC/ETH\n",
       "0     DAI/ETH\n",
       "0     DAI/ETH\n",
       "0     DAI/ETH\n",
       "       ...   \n",
       "0     DAI/ETH\n",
       "0     DAI/ETH\n",
       "0    USDC/ETH\n",
       "0    USDC/ETH\n",
       "0    USDC/ETH\n",
       "Name: feed1, Length: 116411, dtype: object"
      ]
     },
     "execution_count": 15,
     "metadata": {},
     "output_type": "execute_result"
    }
   ],
   "source": [
    "sorted_ratios['feed1']"
   ]
  }
 ],
 "metadata": {
  "kernelspec": {
   "display_name": "Python 3",
   "language": "python",
   "name": "python3"
  },
  "language_info": {
   "codemirror_mode": {
    "name": "ipython",
    "version": 3
   },
   "file_extension": ".py",
   "mimetype": "text/x-python",
   "name": "python",
   "nbconvert_exporter": "python",
   "pygments_lexer": "ipython3",
   "version": "3.8.5"
  }
 },
 "nbformat": 4,
 "nbformat_minor": 4
}
